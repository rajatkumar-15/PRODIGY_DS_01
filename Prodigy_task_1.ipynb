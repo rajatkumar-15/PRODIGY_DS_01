#Task_1
import openpyxl
import pandas as pd
import matplotlib.pyplot as plt

data = {
    'Age Group': ['0-9', '10-19', '20-29', '30-39', '40-49', '50-59', '60-69', '70+'],
    'Population': [5576, 65678, 67675, 32459, 78664, 56543, 87754, 43535]
}

df = pd.DataFrame(data)
df.to_excel('population_by_age.xlsx', index=False)

df = pd.read_excel('population_by_age.xlsx')

age_groups = df['Age Group']
population = df['Population']

# Plotting the bar chart
plt.figure(figsize=(10, 6))
plt.bar(age_groups, population, color='Indigo')

# Adding title and labels
plt.title('Population Distribution by Age Group')
plt.xlabel('Age Group')
plt.ylabel('Population')

# Rotating x-axis labels for better readability
plt.xticks(rotation=45)

# Display the plot
plt.tight_layout()
plt.show()
